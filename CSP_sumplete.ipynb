{
  "nbformat": 4,
  "nbformat_minor": 0,
  "metadata": {
    "colab": {
      "provenance": [],
      "include_colab_link": true
    },
    "kernelspec": {
      "name": "python3",
      "display_name": "Python 3"
    },
    "language_info": {
      "name": "python"
    }
  },
  "cells": [
    {
      "cell_type": "markdown",
      "metadata": {
        "id": "view-in-github",
        "colab_type": "text"
      },
      "source": [
        "<a href=\"https://colab.research.google.com/github/eynomr/CSP-Sumplete/blob/main/CSP_sumplete.ipynb\" target=\"_parent\"><img src=\"https://colab.research.google.com/assets/colab-badge.svg\" alt=\"Open In Colab\"/></a>"
      ]
    },
    {
      "cell_type": "code",
      "source": [
        "!git clone https://github.com/aimacode/aima-python.git\n",
        "!git clone https://github.com/aimacode/aima-data /content/aima-python/aima-data"
      ],
      "metadata": {
        "id": "zMTLOIjcN_Vo",
        "colab": {
          "base_uri": "https://localhost:8080/"
        },
        "outputId": "bb66fb0b-f641-483b-f13b-9407d4557b39"
      },
      "execution_count": null,
      "outputs": [
        {
          "output_type": "stream",
          "name": "stdout",
          "text": [
            "fatal: destination path 'aima-python' already exists and is not an empty directory.\n",
            "fatal: destination path '/content/aima-python/aima-data' already exists and is not an empty directory.\n"
          ]
        }
      ]
    },
    {
      "cell_type": "code",
      "source": [
        "#TODO Step One: Figure out: set of variables, domains for each variable, constraint graph representation, applicable constraints\n",
        "# I think the set of variables could be each cell in the grid.\n",
        "# Alternatively, the variables could be the rows and columns.\n",
        "# Domain would be each value in the row and column.\n",
        "# Constraint obviously is that each row and column adds up to its prescribed value.\n",
        "\n",
        "# AIMA code\n",
        "#https://github.com/aimacode/aima-python/blob/master/csp.ipynb\n",
        "# Found another good source of info on this topic\n",
        "#https://simpleai.readthedocs.io/en/latest/constraint_satisfaction_problems.html"
      ],
      "metadata": {
        "id": "ItkNzxL5tC_8"
      },
      "execution_count": null,
      "outputs": []
    },
    {
      "cell_type": "code",
      "source": [
        "import sys\n",
        "sys.path.insert(0, \"/content/aima-python\")\n",
        "from itertools import combinations\n",
        "from csp import *"
      ],
      "metadata": {
        "id": "AOQHGGqkkPSV"
      },
      "execution_count": null,
      "outputs": []
    },
    {
      "cell_type": "code",
      "source": [
        "def revise(csp, Xi, Xj, removals):\n",
        "    \"\"\"Return true if we remove a value.\"\"\"\n",
        "    revised = False\n",
        "    for x in csp.curr_domains[Xi][:]:\n",
        "        # If Xi=x conflicts with Xj=y for every possible y, eliminate Xi=x\n",
        "        if all(not csp.constraints(Xi, x, Xj, y) for y in csp.curr_domains[Xj]):\n",
        "            csp.prune(Xi, x, removals)\n",
        "            revised = True\n",
        "    return revised\n",
        "\n",
        "def AC3(csp, queue=None, removals=None, arc_heuristic=dom_j_up):\n",
        "    \"\"\"[Figure 6.3]\"\"\"\n",
        "    if queue is None:\n",
        "        queue = {(Xi, Xk) for Xi in csp.variables for Xk in csp.neighbors[Xi]}\n",
        "    csp.support_pruning()\n",
        "    queue = arc_heuristic(csp, queue)\n",
        "    while queue:\n",
        "        (Xi, Xj) = queue.pop()\n",
        "        if revise(csp, Xi, Xj, removals):\n",
        "            if not csp.curr_domains[Xi]:\n",
        "                return False\n",
        "            for Xk in csp.neighbors[Xi]:\n",
        "                if Xk != Xj:\n",
        "                    queue.add((Xk, Xi))\n",
        "    return True"
      ],
      "metadata": {
        "id": "LT2_vsWnVb0G"
      },
      "execution_count": null,
      "outputs": []
    },
    {
      "cell_type": "code",
      "source": [
        "# goal = {\n",
        "#     #row\n",
        "#     (4, 7, 5): 7,\n",
        "#     (4, 2, 6): 6,\n",
        "#     (6, 2, 2): 4,\n",
        "\n",
        "#     #column\n",
        "#     (4, 4, 6): 0,\n",
        "#     (7, 2, 2): 9,\n",
        "#     (5, 6, 2): 8,\n",
        "# }\n",
        "# goal = {\n",
        "#     #row\n",
        "#     (2, 9, 9): 11,\n",
        "#     (5, 6, 5): 5,\n",
        "#     (8, 7, 9): 17,\n",
        "\n",
        "#     #column\n",
        "#     (2, 5, 8): 10,\n",
        "#     (9, 6, 7): 0,\n",
        "#     (9, 5, 9): 23,\n",
        "# }\n",
        "goal = {\n",
        "    #row\n",
        "    (3, 4, 9, 3, 5, 1): 15,\n",
        "    (6, 2, 7, 4, 3, 6): 9,\n",
        "    (2, 5, 9, 6, 4, 5): 9,\n",
        "    (9, 5, 2, 1, 5, 2): 20,\n",
        "    (3, 1, 4, 6, 3, 1): 15,\n",
        "    (1, 3, 9, 4, 6, 9): 32,\n",
        "\n",
        "    #column\n",
        "    (3, 6, 2, 9, 3, 1): 13,\n",
        "    (4, 2, 5, 5, 1, 3): 16,\n",
        "    (9, 7, 9, 2, 4, 9): 22,\n",
        "    (3, 4, 6, 1, 6, 4): 15,\n",
        "    (5, 3, 4, 5, 3, 6): 23,\n",
        "    (1, 6, 5, 2, 1, 9): 11,\n",
        "}\n",
        "\n",
        "# variables = [\n",
        "#     #row\n",
        "#     (2, 9, 9),\n",
        "#     (5, 6, 5),\n",
        "#     (8, 7, 9),\n",
        "\n",
        "#     #column\n",
        "#     (2, 5, 8),\n",
        "#     (9, 6, 7),\n",
        "#     (9, 5, 9),\n",
        "# ]\n",
        "variables = [\n",
        "    #row\n",
        "    (3, 4, 9, 3, 5, 1),\n",
        "    (6, 2, 7, 4, 3, 6),\n",
        "    (2, 5, 9, 6, 4, 5),\n",
        "    (9, 5, 2, 1, 5, 2),\n",
        "    (3, 1, 4, 6, 3, 1),\n",
        "    (1, 3, 9, 4, 6, 9),\n",
        "\n",
        "    #column\n",
        "    (3, 6, 2, 9, 3, 1),\n",
        "    (4, 2, 5, 5, 1, 3),\n",
        "    (9, 7, 9, 2, 4, 9),\n",
        "    (3, 4, 6, 1, 6, 4),\n",
        "    (5, 3, 4, 5, 3, 6),\n",
        "    (1, 6, 5, 2, 1, 9),\n",
        "]\n",
        "\n",
        "half_len = int(len(variables)/2)\n",
        "rows = variables[:half_len]\n",
        "columns = variables[half_len:]\n"
      ],
      "metadata": {
        "id": "Zjf3rub1Ol4-"
      },
      "execution_count": null,
      "outputs": []
    },
    {
      "cell_type": "code",
      "source": [
        "# Helper functions\n",
        "\n",
        "# For domain\n",
        "def all_combos(lst):\n",
        "  # All possible values for rows and columns that sums up to the goal of that row or column.\n",
        "  all_combinations = set()\n",
        "  if sum(lst) == goal[tuple(lst)]:\n",
        "    all_combinations.add(tuple(lst))\n",
        "  for r in range(1, len(lst) + 1):\n",
        "      for indices in combinations(range(len(lst)), r):\n",
        "          new_list = lst.copy()\n",
        "          for i in indices:\n",
        "              new_list[i] = 0\n",
        "          if sum(new_list) == goal[tuple(lst)]:\n",
        "            all_combinations.add(tuple(new_list))\n",
        "  return sorted(all_combinations)\n",
        "\n",
        "# for neighbors\n",
        "def get_neighbors(variables, domain):\n",
        "  # neighbors are all columns are row that intersect with a cell that is set to 0 (which means it was crossed) since those are the only ones that share the constraint.\n",
        "  neighbors = {}\n",
        "  hal_len = int(len(variables)/2)\n",
        "  rs = variables[:hal_len]\n",
        "  cs = variables[hal_len:]\n",
        "\n",
        "  for row in rs:\n",
        "    var_domain = domain[row]\n",
        "    neighbors[row] = []\n",
        "    for d in var_domain:\n",
        "      zero_indices = [index for index, value in enumerate(d) if value == 0]\n",
        "      for index in zero_indices:\n",
        "        neighbors[row].append(columns[index])\n",
        "\n",
        "  for col in cs:\n",
        "    var_domain = domain[col]\n",
        "    neighbors[col] = []\n",
        "    for d in var_domain:\n",
        "      zero_indices = [index for index, value in enumerate(d) if value == 0]\n",
        "      for index in zero_indices:\n",
        "        neighbors[col].append(rows[index])\n",
        "\n",
        "  return neighbors\n",
        "\n",
        "# Contraint function\n",
        "def sum_constraint(row, row_val, col, col_val):\n",
        "  # checks if the intersecting cell of neighboring variables is of the same value.\n",
        "\n",
        "  if row in rows:\n",
        "    row_index = rows.index(row)\n",
        "  else:\n",
        "    row_index = columns.index(row)\n",
        "  if col in columns:\n",
        "    col_index = columns.index(col)\n",
        "  else:\n",
        "    col_index = rows.index(col)\n",
        "\n",
        "  return row_val[col_index] == col_val[row_index]"
      ],
      "metadata": {
        "id": "QhgDT8xttSN4"
      },
      "execution_count": null,
      "outputs": []
    },
    {
      "cell_type": "code",
      "source": [
        "domain = {}\n",
        "for var in variables:\n",
        "  domain[var] = all_combos(list(var))\n",
        "\n",
        "neighbors = get_neighbors(variables, domain)\n",
        "\n",
        "print(\"Domain:\")\n",
        "for key, val in domain.items():\n",
        "  print(key, \" : \", val)\n",
        "\n",
        "print('---------------------')\n",
        "\n",
        "print(\"Neighbors:\")\n",
        "for key, val in neighbors.items():\n",
        "  print(key, \" : \", val)\n"
      ],
      "metadata": {
        "colab": {
          "base_uri": "https://localhost:8080/"
        },
        "id": "GKeTTrQ0Nx_4",
        "outputId": "213a7cd5-b16f-457c-9d59-a7aff3865e94"
      },
      "execution_count": null,
      "outputs": [
        {
          "output_type": "stream",
          "name": "stdout",
          "text": [
            "Domain:\n",
            "(3, 4, 9, 3, 5, 1)  :  [(0, 0, 9, 0, 5, 1), (3, 0, 9, 3, 0, 0), (3, 4, 0, 3, 5, 0)]\n",
            "(6, 2, 7, 4, 3, 6)  :  [(0, 0, 0, 0, 3, 6), (0, 2, 0, 4, 3, 0), (0, 2, 7, 0, 0, 0), (6, 0, 0, 0, 3, 0)]\n",
            "(2, 5, 9, 6, 4, 5)  :  [(0, 0, 0, 0, 4, 5), (0, 0, 9, 0, 0, 0), (0, 5, 0, 0, 4, 0)]\n",
            "(9, 5, 2, 1, 5, 2)  :  [(9, 5, 0, 1, 5, 0)]\n",
            "(3, 1, 4, 6, 3, 1)  :  [(0, 1, 4, 6, 3, 1), (3, 1, 4, 6, 0, 1)]\n",
            "(1, 3, 9, 4, 6, 9)  :  [(1, 3, 9, 4, 6, 9)]\n",
            "(3, 6, 2, 9, 3, 1)  :  [(0, 0, 0, 9, 3, 1), (3, 0, 0, 9, 0, 1), (3, 6, 0, 0, 3, 1)]\n",
            "(4, 2, 5, 5, 1, 3)  :  [(0, 2, 5, 5, 1, 3), (4, 2, 5, 5, 0, 0)]\n",
            "(9, 7, 9, 2, 4, 9)  :  [(0, 0, 9, 0, 4, 9), (0, 7, 0, 2, 4, 9), (0, 7, 9, 2, 4, 0), (9, 0, 0, 0, 4, 9), (9, 0, 9, 0, 4, 0), (9, 7, 0, 2, 4, 0)]\n",
            "(3, 4, 6, 1, 6, 4)  :  [(0, 4, 0, 1, 6, 4), (0, 4, 6, 1, 0, 4), (3, 0, 6, 0, 6, 0)]\n",
            "(5, 3, 4, 5, 3, 6)  :  [(5, 0, 4, 5, 3, 6), (5, 3, 4, 5, 0, 6)]\n",
            "(1, 6, 5, 2, 1, 9)  :  [(0, 0, 0, 2, 0, 9), (0, 6, 5, 0, 0, 0), (1, 0, 0, 0, 1, 9)]\n",
            "---------------------\n",
            "Neighbors:\n",
            "(3, 4, 9, 3, 5, 1)  :  [(3, 6, 2, 9, 3, 1), (4, 2, 5, 5, 1, 3), (3, 4, 6, 1, 6, 4), (4, 2, 5, 5, 1, 3), (5, 3, 4, 5, 3, 6), (1, 6, 5, 2, 1, 9), (9, 7, 9, 2, 4, 9), (1, 6, 5, 2, 1, 9)]\n",
            "(6, 2, 7, 4, 3, 6)  :  [(3, 6, 2, 9, 3, 1), (4, 2, 5, 5, 1, 3), (9, 7, 9, 2, 4, 9), (3, 4, 6, 1, 6, 4), (3, 6, 2, 9, 3, 1), (9, 7, 9, 2, 4, 9), (1, 6, 5, 2, 1, 9), (3, 6, 2, 9, 3, 1), (3, 4, 6, 1, 6, 4), (5, 3, 4, 5, 3, 6), (1, 6, 5, 2, 1, 9), (4, 2, 5, 5, 1, 3), (9, 7, 9, 2, 4, 9), (3, 4, 6, 1, 6, 4), (1, 6, 5, 2, 1, 9)]\n",
            "(2, 5, 9, 6, 4, 5)  :  [(3, 6, 2, 9, 3, 1), (4, 2, 5, 5, 1, 3), (9, 7, 9, 2, 4, 9), (3, 4, 6, 1, 6, 4), (3, 6, 2, 9, 3, 1), (4, 2, 5, 5, 1, 3), (3, 4, 6, 1, 6, 4), (5, 3, 4, 5, 3, 6), (1, 6, 5, 2, 1, 9), (3, 6, 2, 9, 3, 1), (9, 7, 9, 2, 4, 9), (3, 4, 6, 1, 6, 4), (1, 6, 5, 2, 1, 9)]\n",
            "(9, 5, 2, 1, 5, 2)  :  [(9, 7, 9, 2, 4, 9), (1, 6, 5, 2, 1, 9)]\n",
            "(3, 1, 4, 6, 3, 1)  :  [(3, 6, 2, 9, 3, 1), (5, 3, 4, 5, 3, 6)]\n",
            "(1, 3, 9, 4, 6, 9)  :  []\n",
            "(3, 6, 2, 9, 3, 1)  :  [(3, 4, 9, 3, 5, 1), (6, 2, 7, 4, 3, 6), (2, 5, 9, 6, 4, 5), (6, 2, 7, 4, 3, 6), (2, 5, 9, 6, 4, 5), (3, 1, 4, 6, 3, 1), (2, 5, 9, 6, 4, 5), (9, 5, 2, 1, 5, 2)]\n",
            "(4, 2, 5, 5, 1, 3)  :  [(3, 4, 9, 3, 5, 1), (3, 1, 4, 6, 3, 1), (1, 3, 9, 4, 6, 9)]\n",
            "(9, 7, 9, 2, 4, 9)  :  [(3, 4, 9, 3, 5, 1), (6, 2, 7, 4, 3, 6), (9, 5, 2, 1, 5, 2), (3, 4, 9, 3, 5, 1), (2, 5, 9, 6, 4, 5), (3, 4, 9, 3, 5, 1), (1, 3, 9, 4, 6, 9), (6, 2, 7, 4, 3, 6), (2, 5, 9, 6, 4, 5), (9, 5, 2, 1, 5, 2), (6, 2, 7, 4, 3, 6), (9, 5, 2, 1, 5, 2), (1, 3, 9, 4, 6, 9), (2, 5, 9, 6, 4, 5), (1, 3, 9, 4, 6, 9)]\n",
            "(3, 4, 6, 1, 6, 4)  :  [(3, 4, 9, 3, 5, 1), (2, 5, 9, 6, 4, 5), (3, 4, 9, 3, 5, 1), (3, 1, 4, 6, 3, 1), (6, 2, 7, 4, 3, 6), (9, 5, 2, 1, 5, 2), (1, 3, 9, 4, 6, 9)]\n",
            "(5, 3, 4, 5, 3, 6)  :  [(6, 2, 7, 4, 3, 6), (3, 1, 4, 6, 3, 1)]\n",
            "(1, 6, 5, 2, 1, 9)  :  [(3, 4, 9, 3, 5, 1), (6, 2, 7, 4, 3, 6), (2, 5, 9, 6, 4, 5), (3, 1, 4, 6, 3, 1), (3, 4, 9, 3, 5, 1), (9, 5, 2, 1, 5, 2), (3, 1, 4, 6, 3, 1), (1, 3, 9, 4, 6, 9), (6, 2, 7, 4, 3, 6), (2, 5, 9, 6, 4, 5), (9, 5, 2, 1, 5, 2)]\n"
          ]
        }
      ]
    },
    {
      "cell_type": "code",
      "source": [
        "csp = CSP(variables=variables, domains=domain, neighbors=neighbors, constraints=sum_constraint)"
      ],
      "metadata": {
        "id": "DxYDBYbWmoow"
      },
      "execution_count": null,
      "outputs": []
    },
    {
      "cell_type": "code",
      "source": [
        "removals = []\n",
        "AC3(csp, removals=removals)"
      ],
      "metadata": {
        "colab": {
          "base_uri": "https://localhost:8080/"
        },
        "id": "zWV58-9TWf1j",
        "outputId": "b41e40f0-add5-49ce-973f-8dee1802e337"
      },
      "execution_count": null,
      "outputs": [
        {
          "output_type": "execute_result",
          "data": {
            "text/plain": [
              "True"
            ]
          },
          "metadata": {},
          "execution_count": 28
        }
      ]
    },
    {
      "cell_type": "code",
      "source": [
        "# what was removed from the domains\n",
        "removals"
      ],
      "metadata": {
        "colab": {
          "base_uri": "https://localhost:8080/"
        },
        "id": "JJHcMQsAswBl",
        "outputId": "4610550d-0b14-4443-d537-99c9b520e345"
      },
      "execution_count": null,
      "outputs": [
        {
          "output_type": "execute_result",
          "data": {
            "text/plain": [
              "[((2, 9, 9), (2, 9, 0)), ((5, 6, 5), (5, 0, 0))]"
            ]
          },
          "metadata": {},
          "execution_count": 22
        }
      ]
    },
    {
      "cell_type": "code",
      "source": [
        "result = backtracking_search(csp)\n",
        "print(result)"
      ],
      "metadata": {
        "id": "FyJ0BJFee3Ci",
        "colab": {
          "base_uri": "https://localhost:8080/"
        },
        "outputId": "ee1f04ca-4b46-47bb-98ea-3574f76738eb"
      },
      "execution_count": null,
      "outputs": [
        {
          "output_type": "stream",
          "name": "stdout",
          "text": [
            "{(3, 4, 9, 3, 5, 1): (0, 0, 9, 0, 5, 1), (6, 2, 7, 4, 3, 6): (0, 2, 0, 4, 3, 0), (2, 5, 9, 6, 4, 5): (0, 5, 0, 0, 4, 0), (9, 5, 2, 1, 5, 2): (9, 5, 0, 1, 5, 0), (3, 1, 4, 6, 3, 1): (3, 1, 4, 6, 0, 1), (1, 3, 9, 4, 6, 9): (1, 3, 9, 4, 6, 9), (3, 6, 2, 9, 3, 1): (0, 0, 0, 9, 3, 1), (4, 2, 5, 5, 1, 3): (0, 2, 5, 5, 1, 3), (9, 7, 9, 2, 4, 9): (9, 0, 0, 0, 4, 9), (3, 4, 6, 1, 6, 4): (0, 4, 0, 1, 6, 4), (5, 3, 4, 5, 3, 6): (5, 3, 4, 5, 0, 6), (1, 6, 5, 2, 1, 9): (1, 0, 0, 0, 1, 9)}\n"
          ]
        }
      ]
    }
  ]
}